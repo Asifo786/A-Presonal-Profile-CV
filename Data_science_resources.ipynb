{
 "cells": [
  {
   "cell_type": "markdown",
   "metadata": {},
   "source": [
    "| Resource Name                                                | Links |\n",
    "| :----------------------------------------------------------- | :---: |\n",
    "| 1. [Student GitHub pack](https://education.github.com/pack \"free\" ) |       |\n",
    "| 2. [Python]( https://www.python.org )                        |       |\n",
    "| 3. [seaborn](https://seaborn.pydata.org)                     |       |\n",
    "| 4. [matplotlib](https://matplotlib.org)                      |       |\n",
    "| 5. [numpy](https://numpy.org)                                |       |\n",
    "| 6. [pandas](https://pandas.pydata.org)                       |       |\n",
    "| 7. [plotly](https://plotly.com/python/)                      |       |\n",
    "| 8. [scipy](https://scipy.org)                                |       |"
   ]
  }
 ],
 "metadata": {
  "kernelspec": {
   "display_name": "Python 3.10.4 64-bit",
   "language": "python",
   "name": "python3"
  },
  "language_info": {
   "name": "python",
   "version": "3.10.4"
  },
  "orig_nbformat": 4,
  "vscode": {
   "interpreter": {
    "hash": "63963b3f4c440940f0b94a3100916033a226cb4f45979123153792d60aa56d6a"
   }
  }
 },
 "nbformat": 4,
 "nbformat_minor": 2
}
